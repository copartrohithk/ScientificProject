{
 "cells": [
  {
   "cell_type": "code",
   "id": "initial_id",
   "metadata": {
    "collapsed": true,
    "ExecuteTime": {
     "end_time": "2025-01-15T19:51:40.951505Z",
     "start_time": "2025-01-15T19:51:40.172366Z"
    }
   },
   "source": [
    "import yfinance as yf\n",
    "import pandas as pd\n",
    "\n",
    "# Define the ticker symbol\n",
    "ticker_symbol = 'QQQ'\n",
    "\n",
    "# Get the data for the past 1 year\n",
    "data = yf.download(ticker_symbol, period='1y')\n",
    "\n",
    "# Select only the 'Open' and 'Close' columns\n",
    "data = data[['Open', 'Close']]\n",
    "\n",
    "# Display the data"
   ],
   "outputs": [
    {
     "name": "stderr",
     "output_type": "stream",
     "text": [
      "Failed to get ticker 'QQQ' reason: HTTPSConnectionPool(host='fc.yahoo.com', port=443): Max retries exceeded with url: / (Caused by SSLError(SSLCertVerificationError(1, '[SSL: CERTIFICATE_VERIFY_FAILED] certificate verify failed: unable to get local issuer certificate (_ssl.c:1006)')))\n",
      "[*********************100%***********************]  1 of 1 completed\n",
      "\n",
      "1 Failed download:\n",
      "['QQQ']: SSLError(MaxRetryError(\"HTTPSConnectionPool(host='fc.yahoo.com', port=443): Max retries exceeded with url: / (Caused by SSLError(SSLCertVerificationError(1, '[SSL: CERTIFICATE_VERIFY_FAILED] certificate verify failed: unable to get local issuer certificate (_ssl.c:1006)')))\"))\n"
     ]
    },
    {
     "name": "stdout",
     "output_type": "stream",
     "text": [
      "Empty DataFrame\n",
      "Columns: [(Open, QQQ), (Close, QQQ)]\n",
      "Index: []\n"
     ]
    }
   ],
   "execution_count": 3
  },
  {
   "metadata": {
    "ExecuteTime": {
     "end_time": "2025-01-15T19:54:33.873805Z",
     "start_time": "2025-01-15T19:54:32.660348Z"
    }
   },
   "cell_type": "code",
   "source": "!pip install fix-yahoo-finance\n",
   "id": "655046d91996425e",
   "outputs": [
    {
     "name": "stdout",
     "output_type": "stream",
     "text": [
      "Collecting fix-yahoo-finance\r\n",
      "  Downloading fix-yahoo-finance-0.1.37.tar.gz (6.3 kB)\r\n",
      "  Preparing metadata (setup.py) ... \u001B[?25lerror\r\n",
      "  \u001B[1;31merror\u001B[0m: \u001B[1msubprocess-exited-with-error\u001B[0m\r\n",
      "  \r\n",
      "  \u001B[31m×\u001B[0m \u001B[32mpython setup.py egg_info\u001B[0m did not run successfully.\r\n",
      "  \u001B[31m│\u001B[0m exit code: \u001B[1;36m1\u001B[0m\r\n",
      "  \u001B[31m╰─>\u001B[0m \u001B[31m[1 lines of output]\u001B[0m\r\n",
      "  \u001B[31m   \u001B[0m ERROR: Can not execute `setup.py` since setuptools is not available in the build environment.\r\n",
      "  \u001B[31m   \u001B[0m \u001B[31m[end of output]\u001B[0m\r\n",
      "  \r\n",
      "  \u001B[1;35mnote\u001B[0m: This error originates from a subprocess, and is likely not a problem with pip.\r\n",
      "\u001B[1;31merror\u001B[0m: \u001B[1mmetadata-generation-failed\u001B[0m\r\n",
      "\r\n",
      "\u001B[31m×\u001B[0m Encountered error while generating package metadata.\r\n",
      "\u001B[31m╰─>\u001B[0m See above for output.\r\n",
      "\r\n",
      "\u001B[1;35mnote\u001B[0m: This is an issue with the package mentioned above, not pip.\r\n",
      "\u001B[1;36mhint\u001B[0m: See above for details.\r\n",
      "\u001B[33mWARNING: There was an error checking the latest version of pip.\u001B[0m\u001B[33m\r\n",
      "\u001B[0m\u001B[?25h"
     ]
    }
   ],
   "execution_count": 6
  },
  {
   "metadata": {},
   "cell_type": "code",
   "outputs": [],
   "execution_count": null,
   "source": [
    "import certifi\n",
    "import yfinance as yf\n",
    "import pandas as pd\n",
    "\n",
    "# Define the ticker symbol\n",
    "ticker_symbol = 'QQQ'\n",
    "\n",
    "# Get the data for the past 1 year#%%\n",
    "!pip install yfinance certifi\n"
   ],
   "id": "b168c001b8767c6e"
  },
  {
   "metadata": {
    "ExecuteTime": {
     "end_time": "2025-01-15T20:03:48.335424Z",
     "start_time": "2025-01-15T20:03:47.627513Z"
    }
   },
   "cell_type": "code",
   "source": [
    "import pandas_datareader.data as web\n",
    "import datetime\n",
    "\n",
    "# Define the ticker symbol\n",
    "ticker_symbol = 'QQQ'\n",
    "\n",
    "# Define the date range\n",
    "end_date = datetime.datetime.now()\n",
    "start_date = end_date - datetime.timedelta(days=365)\n",
    "\n",
    "# Fetch the data\n",
    "data = web.DataReader(ticker_symbol, 'yahoo', start_date, end_date)\n",
    "\n",
    "# Select only the 'Open' and 'Close' columns\n",
    "data = data[['Open', 'Close']]\n",
    "\n",
    "# Display the data\n",
    "print(data)"
   ],
   "id": "20d8e5ecb29bf60",
   "outputs": [
    {
     "ename": "SSLError",
     "evalue": "HTTPSConnectionPool(host='finance.yahoo.com', port=443): Max retries exceeded with url: /quote/QQQ/history?period1=1705449827&period2=1737021599&interval=1d&frequency=1d&filter=history (Caused by SSLError(SSLCertVerificationError(1, '[SSL: CERTIFICATE_VERIFY_FAILED] certificate verify failed: unable to get local issuer certificate (_ssl.c:1006)')))",
     "output_type": "error",
     "traceback": [
      "\u001B[0;31m---------------------------------------------------------------------------\u001B[0m",
      "\u001B[0;31mSSLCertVerificationError\u001B[0m                  Traceback (most recent call last)",
      "File \u001B[0;32m/opt/anaconda3/lib/python3.11/site-packages/urllib3/connectionpool.py:468\u001B[0m, in \u001B[0;36mHTTPConnectionPool._make_request\u001B[0;34m(self, conn, method, url, body, headers, retries, timeout, chunked, response_conn, preload_content, decode_content, enforce_content_length)\u001B[0m\n\u001B[1;32m    467\u001B[0m \u001B[38;5;28;01mtry\u001B[39;00m:\n\u001B[0;32m--> 468\u001B[0m     \u001B[38;5;28mself\u001B[39m\u001B[38;5;241m.\u001B[39m_validate_conn(conn)\n\u001B[1;32m    469\u001B[0m \u001B[38;5;28;01mexcept\u001B[39;00m (SocketTimeout, BaseSSLError) \u001B[38;5;28;01mas\u001B[39;00m e:\n",
      "File \u001B[0;32m/opt/anaconda3/lib/python3.11/site-packages/urllib3/connectionpool.py:1097\u001B[0m, in \u001B[0;36mHTTPSConnectionPool._validate_conn\u001B[0;34m(self, conn)\u001B[0m\n\u001B[1;32m   1096\u001B[0m \u001B[38;5;28;01mif\u001B[39;00m conn\u001B[38;5;241m.\u001B[39mis_closed:\n\u001B[0;32m-> 1097\u001B[0m     conn\u001B[38;5;241m.\u001B[39mconnect()\n\u001B[1;32m   1099\u001B[0m \u001B[38;5;28;01mif\u001B[39;00m \u001B[38;5;129;01mnot\u001B[39;00m conn\u001B[38;5;241m.\u001B[39mis_verified:\n",
      "File \u001B[0;32m/opt/anaconda3/lib/python3.11/site-packages/urllib3/connection.py:642\u001B[0m, in \u001B[0;36mHTTPSConnection.connect\u001B[0;34m(self)\u001B[0m\n\u001B[1;32m    634\u001B[0m     warnings\u001B[38;5;241m.\u001B[39mwarn(\n\u001B[1;32m    635\u001B[0m         (\n\u001B[1;32m    636\u001B[0m             \u001B[38;5;124mf\u001B[39m\u001B[38;5;124m\"\u001B[39m\u001B[38;5;124mSystem time is way off (before \u001B[39m\u001B[38;5;132;01m{\u001B[39;00mRECENT_DATE\u001B[38;5;132;01m}\u001B[39;00m\u001B[38;5;124m). This will probably \u001B[39m\u001B[38;5;124m\"\u001B[39m\n\u001B[0;32m   (...)\u001B[0m\n\u001B[1;32m    639\u001B[0m         SystemTimeWarning,\n\u001B[1;32m    640\u001B[0m     )\n\u001B[0;32m--> 642\u001B[0m sock_and_verified \u001B[38;5;241m=\u001B[39m _ssl_wrap_socket_and_match_hostname(\n\u001B[1;32m    643\u001B[0m     sock\u001B[38;5;241m=\u001B[39msock,\n\u001B[1;32m    644\u001B[0m     cert_reqs\u001B[38;5;241m=\u001B[39m\u001B[38;5;28mself\u001B[39m\u001B[38;5;241m.\u001B[39mcert_reqs,\n\u001B[1;32m    645\u001B[0m     ssl_version\u001B[38;5;241m=\u001B[39m\u001B[38;5;28mself\u001B[39m\u001B[38;5;241m.\u001B[39mssl_version,\n\u001B[1;32m    646\u001B[0m     ssl_minimum_version\u001B[38;5;241m=\u001B[39m\u001B[38;5;28mself\u001B[39m\u001B[38;5;241m.\u001B[39mssl_minimum_version,\n\u001B[1;32m    647\u001B[0m     ssl_maximum_version\u001B[38;5;241m=\u001B[39m\u001B[38;5;28mself\u001B[39m\u001B[38;5;241m.\u001B[39mssl_maximum_version,\n\u001B[1;32m    648\u001B[0m     ca_certs\u001B[38;5;241m=\u001B[39m\u001B[38;5;28mself\u001B[39m\u001B[38;5;241m.\u001B[39mca_certs,\n\u001B[1;32m    649\u001B[0m     ca_cert_dir\u001B[38;5;241m=\u001B[39m\u001B[38;5;28mself\u001B[39m\u001B[38;5;241m.\u001B[39mca_cert_dir,\n\u001B[1;32m    650\u001B[0m     ca_cert_data\u001B[38;5;241m=\u001B[39m\u001B[38;5;28mself\u001B[39m\u001B[38;5;241m.\u001B[39mca_cert_data,\n\u001B[1;32m    651\u001B[0m     cert_file\u001B[38;5;241m=\u001B[39m\u001B[38;5;28mself\u001B[39m\u001B[38;5;241m.\u001B[39mcert_file,\n\u001B[1;32m    652\u001B[0m     key_file\u001B[38;5;241m=\u001B[39m\u001B[38;5;28mself\u001B[39m\u001B[38;5;241m.\u001B[39mkey_file,\n\u001B[1;32m    653\u001B[0m     key_password\u001B[38;5;241m=\u001B[39m\u001B[38;5;28mself\u001B[39m\u001B[38;5;241m.\u001B[39mkey_password,\n\u001B[1;32m    654\u001B[0m     server_hostname\u001B[38;5;241m=\u001B[39mserver_hostname,\n\u001B[1;32m    655\u001B[0m     ssl_context\u001B[38;5;241m=\u001B[39m\u001B[38;5;28mself\u001B[39m\u001B[38;5;241m.\u001B[39mssl_context,\n\u001B[1;32m    656\u001B[0m     tls_in_tls\u001B[38;5;241m=\u001B[39mtls_in_tls,\n\u001B[1;32m    657\u001B[0m     assert_hostname\u001B[38;5;241m=\u001B[39m\u001B[38;5;28mself\u001B[39m\u001B[38;5;241m.\u001B[39massert_hostname,\n\u001B[1;32m    658\u001B[0m     assert_fingerprint\u001B[38;5;241m=\u001B[39m\u001B[38;5;28mself\u001B[39m\u001B[38;5;241m.\u001B[39massert_fingerprint,\n\u001B[1;32m    659\u001B[0m )\n\u001B[1;32m    660\u001B[0m \u001B[38;5;28mself\u001B[39m\u001B[38;5;241m.\u001B[39msock \u001B[38;5;241m=\u001B[39m sock_and_verified\u001B[38;5;241m.\u001B[39msocket\n",
      "File \u001B[0;32m/opt/anaconda3/lib/python3.11/site-packages/urllib3/connection.py:783\u001B[0m, in \u001B[0;36m_ssl_wrap_socket_and_match_hostname\u001B[0;34m(sock, cert_reqs, ssl_version, ssl_minimum_version, ssl_maximum_version, cert_file, key_file, key_password, ca_certs, ca_cert_dir, ca_cert_data, assert_hostname, assert_fingerprint, server_hostname, ssl_context, tls_in_tls)\u001B[0m\n\u001B[1;32m    781\u001B[0m         server_hostname \u001B[38;5;241m=\u001B[39m normalized\n\u001B[0;32m--> 783\u001B[0m ssl_sock \u001B[38;5;241m=\u001B[39m ssl_wrap_socket(\n\u001B[1;32m    784\u001B[0m     sock\u001B[38;5;241m=\u001B[39msock,\n\u001B[1;32m    785\u001B[0m     keyfile\u001B[38;5;241m=\u001B[39mkey_file,\n\u001B[1;32m    786\u001B[0m     certfile\u001B[38;5;241m=\u001B[39mcert_file,\n\u001B[1;32m    787\u001B[0m     key_password\u001B[38;5;241m=\u001B[39mkey_password,\n\u001B[1;32m    788\u001B[0m     ca_certs\u001B[38;5;241m=\u001B[39mca_certs,\n\u001B[1;32m    789\u001B[0m     ca_cert_dir\u001B[38;5;241m=\u001B[39mca_cert_dir,\n\u001B[1;32m    790\u001B[0m     ca_cert_data\u001B[38;5;241m=\u001B[39mca_cert_data,\n\u001B[1;32m    791\u001B[0m     server_hostname\u001B[38;5;241m=\u001B[39mserver_hostname,\n\u001B[1;32m    792\u001B[0m     ssl_context\u001B[38;5;241m=\u001B[39mcontext,\n\u001B[1;32m    793\u001B[0m     tls_in_tls\u001B[38;5;241m=\u001B[39mtls_in_tls,\n\u001B[1;32m    794\u001B[0m )\n\u001B[1;32m    796\u001B[0m \u001B[38;5;28;01mtry\u001B[39;00m:\n",
      "File \u001B[0;32m/opt/anaconda3/lib/python3.11/site-packages/urllib3/util/ssl_.py:471\u001B[0m, in \u001B[0;36mssl_wrap_socket\u001B[0;34m(sock, keyfile, certfile, cert_reqs, ca_certs, server_hostname, ssl_version, ciphers, ssl_context, ca_cert_dir, key_password, ca_cert_data, tls_in_tls)\u001B[0m\n\u001B[1;32m    469\u001B[0m     \u001B[38;5;28;01mpass\u001B[39;00m\n\u001B[0;32m--> 471\u001B[0m ssl_sock \u001B[38;5;241m=\u001B[39m _ssl_wrap_socket_impl(sock, context, tls_in_tls, server_hostname)\n\u001B[1;32m    472\u001B[0m \u001B[38;5;28;01mreturn\u001B[39;00m ssl_sock\n",
      "File \u001B[0;32m/opt/anaconda3/lib/python3.11/site-packages/urllib3/util/ssl_.py:515\u001B[0m, in \u001B[0;36m_ssl_wrap_socket_impl\u001B[0;34m(sock, ssl_context, tls_in_tls, server_hostname)\u001B[0m\n\u001B[1;32m    513\u001B[0m     \u001B[38;5;28;01mreturn\u001B[39;00m SSLTransport(sock, ssl_context, server_hostname)\n\u001B[0;32m--> 515\u001B[0m \u001B[38;5;28;01mreturn\u001B[39;00m ssl_context\u001B[38;5;241m.\u001B[39mwrap_socket(sock, server_hostname\u001B[38;5;241m=\u001B[39mserver_hostname)\n",
      "File \u001B[0;32m/opt/anaconda3/lib/python3.11/ssl.py:517\u001B[0m, in \u001B[0;36mSSLContext.wrap_socket\u001B[0;34m(self, sock, server_side, do_handshake_on_connect, suppress_ragged_eofs, server_hostname, session)\u001B[0m\n\u001B[1;32m    511\u001B[0m \u001B[38;5;28;01mdef\u001B[39;00m \u001B[38;5;21mwrap_socket\u001B[39m(\u001B[38;5;28mself\u001B[39m, sock, server_side\u001B[38;5;241m=\u001B[39m\u001B[38;5;28;01mFalse\u001B[39;00m,\n\u001B[1;32m    512\u001B[0m                 do_handshake_on_connect\u001B[38;5;241m=\u001B[39m\u001B[38;5;28;01mTrue\u001B[39;00m,\n\u001B[1;32m    513\u001B[0m                 suppress_ragged_eofs\u001B[38;5;241m=\u001B[39m\u001B[38;5;28;01mTrue\u001B[39;00m,\n\u001B[1;32m    514\u001B[0m                 server_hostname\u001B[38;5;241m=\u001B[39m\u001B[38;5;28;01mNone\u001B[39;00m, session\u001B[38;5;241m=\u001B[39m\u001B[38;5;28;01mNone\u001B[39;00m):\n\u001B[1;32m    515\u001B[0m     \u001B[38;5;66;03m# SSLSocket class handles server_hostname encoding before it calls\u001B[39;00m\n\u001B[1;32m    516\u001B[0m     \u001B[38;5;66;03m# ctx._wrap_socket()\u001B[39;00m\n\u001B[0;32m--> 517\u001B[0m     \u001B[38;5;28;01mreturn\u001B[39;00m \u001B[38;5;28mself\u001B[39m\u001B[38;5;241m.\u001B[39msslsocket_class\u001B[38;5;241m.\u001B[39m_create(\n\u001B[1;32m    518\u001B[0m         sock\u001B[38;5;241m=\u001B[39msock,\n\u001B[1;32m    519\u001B[0m         server_side\u001B[38;5;241m=\u001B[39mserver_side,\n\u001B[1;32m    520\u001B[0m         do_handshake_on_connect\u001B[38;5;241m=\u001B[39mdo_handshake_on_connect,\n\u001B[1;32m    521\u001B[0m         suppress_ragged_eofs\u001B[38;5;241m=\u001B[39msuppress_ragged_eofs,\n\u001B[1;32m    522\u001B[0m         server_hostname\u001B[38;5;241m=\u001B[39mserver_hostname,\n\u001B[1;32m    523\u001B[0m         context\u001B[38;5;241m=\u001B[39m\u001B[38;5;28mself\u001B[39m,\n\u001B[1;32m    524\u001B[0m         session\u001B[38;5;241m=\u001B[39msession\n\u001B[1;32m    525\u001B[0m     )\n",
      "File \u001B[0;32m/opt/anaconda3/lib/python3.11/ssl.py:1108\u001B[0m, in \u001B[0;36mSSLSocket._create\u001B[0;34m(cls, sock, server_side, do_handshake_on_connect, suppress_ragged_eofs, server_hostname, context, session)\u001B[0m\n\u001B[1;32m   1107\u001B[0m             \u001B[38;5;28;01mraise\u001B[39;00m \u001B[38;5;167;01mValueError\u001B[39;00m(\u001B[38;5;124m\"\u001B[39m\u001B[38;5;124mdo_handshake_on_connect should not be specified for non-blocking sockets\u001B[39m\u001B[38;5;124m\"\u001B[39m)\n\u001B[0;32m-> 1108\u001B[0m         \u001B[38;5;28mself\u001B[39m\u001B[38;5;241m.\u001B[39mdo_handshake()\n\u001B[1;32m   1109\u001B[0m \u001B[38;5;28;01mexcept\u001B[39;00m (\u001B[38;5;167;01mOSError\u001B[39;00m, \u001B[38;5;167;01mValueError\u001B[39;00m):\n",
      "File \u001B[0;32m/opt/anaconda3/lib/python3.11/ssl.py:1383\u001B[0m, in \u001B[0;36mSSLSocket.do_handshake\u001B[0;34m(self, block)\u001B[0m\n\u001B[1;32m   1382\u001B[0m         \u001B[38;5;28mself\u001B[39m\u001B[38;5;241m.\u001B[39msettimeout(\u001B[38;5;28;01mNone\u001B[39;00m)\n\u001B[0;32m-> 1383\u001B[0m     \u001B[38;5;28mself\u001B[39m\u001B[38;5;241m.\u001B[39m_sslobj\u001B[38;5;241m.\u001B[39mdo_handshake()\n\u001B[1;32m   1384\u001B[0m \u001B[38;5;28;01mfinally\u001B[39;00m:\n",
      "\u001B[0;31mSSLCertVerificationError\u001B[0m: [SSL: CERTIFICATE_VERIFY_FAILED] certificate verify failed: unable to get local issuer certificate (_ssl.c:1006)",
      "\nDuring handling of the above exception, another exception occurred:\n",
      "\u001B[0;31mSSLError\u001B[0m                                  Traceback (most recent call last)",
      "File \u001B[0;32m/opt/anaconda3/lib/python3.11/site-packages/urllib3/connectionpool.py:791\u001B[0m, in \u001B[0;36mHTTPConnectionPool.urlopen\u001B[0;34m(self, method, url, body, headers, retries, redirect, assert_same_host, timeout, pool_timeout, release_conn, chunked, body_pos, preload_content, decode_content, **response_kw)\u001B[0m\n\u001B[1;32m    790\u001B[0m \u001B[38;5;66;03m# Make the request on the HTTPConnection object\u001B[39;00m\n\u001B[0;32m--> 791\u001B[0m response \u001B[38;5;241m=\u001B[39m \u001B[38;5;28mself\u001B[39m\u001B[38;5;241m.\u001B[39m_make_request(\n\u001B[1;32m    792\u001B[0m     conn,\n\u001B[1;32m    793\u001B[0m     method,\n\u001B[1;32m    794\u001B[0m     url,\n\u001B[1;32m    795\u001B[0m     timeout\u001B[38;5;241m=\u001B[39mtimeout_obj,\n\u001B[1;32m    796\u001B[0m     body\u001B[38;5;241m=\u001B[39mbody,\n\u001B[1;32m    797\u001B[0m     headers\u001B[38;5;241m=\u001B[39mheaders,\n\u001B[1;32m    798\u001B[0m     chunked\u001B[38;5;241m=\u001B[39mchunked,\n\u001B[1;32m    799\u001B[0m     retries\u001B[38;5;241m=\u001B[39mretries,\n\u001B[1;32m    800\u001B[0m     response_conn\u001B[38;5;241m=\u001B[39mresponse_conn,\n\u001B[1;32m    801\u001B[0m     preload_content\u001B[38;5;241m=\u001B[39mpreload_content,\n\u001B[1;32m    802\u001B[0m     decode_content\u001B[38;5;241m=\u001B[39mdecode_content,\n\u001B[1;32m    803\u001B[0m     \u001B[38;5;241m*\u001B[39m\u001B[38;5;241m*\u001B[39mresponse_kw,\n\u001B[1;32m    804\u001B[0m )\n\u001B[1;32m    806\u001B[0m \u001B[38;5;66;03m# Everything went great!\u001B[39;00m\n",
      "File \u001B[0;32m/opt/anaconda3/lib/python3.11/site-packages/urllib3/connectionpool.py:492\u001B[0m, in \u001B[0;36mHTTPConnectionPool._make_request\u001B[0;34m(self, conn, method, url, body, headers, retries, timeout, chunked, response_conn, preload_content, decode_content, enforce_content_length)\u001B[0m\n\u001B[1;32m    491\u001B[0m         new_e \u001B[38;5;241m=\u001B[39m _wrap_proxy_error(new_e, conn\u001B[38;5;241m.\u001B[39mproxy\u001B[38;5;241m.\u001B[39mscheme)\n\u001B[0;32m--> 492\u001B[0m     \u001B[38;5;28;01mraise\u001B[39;00m new_e\n\u001B[1;32m    494\u001B[0m \u001B[38;5;66;03m# conn.request() calls http.client.*.request, not the method in\u001B[39;00m\n\u001B[1;32m    495\u001B[0m \u001B[38;5;66;03m# urllib3.request. It also calls makefile (recv) on the socket.\u001B[39;00m\n",
      "\u001B[0;31mSSLError\u001B[0m: [SSL: CERTIFICATE_VERIFY_FAILED] certificate verify failed: unable to get local issuer certificate (_ssl.c:1006)",
      "\nThe above exception was the direct cause of the following exception:\n",
      "\u001B[0;31mMaxRetryError\u001B[0m                             Traceback (most recent call last)",
      "File \u001B[0;32m/opt/anaconda3/lib/python3.11/site-packages/requests/adapters.py:486\u001B[0m, in \u001B[0;36mHTTPAdapter.send\u001B[0;34m(self, request, stream, timeout, verify, cert, proxies)\u001B[0m\n\u001B[1;32m    485\u001B[0m \u001B[38;5;28;01mtry\u001B[39;00m:\n\u001B[0;32m--> 486\u001B[0m     resp \u001B[38;5;241m=\u001B[39m conn\u001B[38;5;241m.\u001B[39murlopen(\n\u001B[1;32m    487\u001B[0m         method\u001B[38;5;241m=\u001B[39mrequest\u001B[38;5;241m.\u001B[39mmethod,\n\u001B[1;32m    488\u001B[0m         url\u001B[38;5;241m=\u001B[39murl,\n\u001B[1;32m    489\u001B[0m         body\u001B[38;5;241m=\u001B[39mrequest\u001B[38;5;241m.\u001B[39mbody,\n\u001B[1;32m    490\u001B[0m         headers\u001B[38;5;241m=\u001B[39mrequest\u001B[38;5;241m.\u001B[39mheaders,\n\u001B[1;32m    491\u001B[0m         redirect\u001B[38;5;241m=\u001B[39m\u001B[38;5;28;01mFalse\u001B[39;00m,\n\u001B[1;32m    492\u001B[0m         assert_same_host\u001B[38;5;241m=\u001B[39m\u001B[38;5;28;01mFalse\u001B[39;00m,\n\u001B[1;32m    493\u001B[0m         preload_content\u001B[38;5;241m=\u001B[39m\u001B[38;5;28;01mFalse\u001B[39;00m,\n\u001B[1;32m    494\u001B[0m         decode_content\u001B[38;5;241m=\u001B[39m\u001B[38;5;28;01mFalse\u001B[39;00m,\n\u001B[1;32m    495\u001B[0m         retries\u001B[38;5;241m=\u001B[39m\u001B[38;5;28mself\u001B[39m\u001B[38;5;241m.\u001B[39mmax_retries,\n\u001B[1;32m    496\u001B[0m         timeout\u001B[38;5;241m=\u001B[39mtimeout,\n\u001B[1;32m    497\u001B[0m         chunked\u001B[38;5;241m=\u001B[39mchunked,\n\u001B[1;32m    498\u001B[0m     )\n\u001B[1;32m    500\u001B[0m \u001B[38;5;28;01mexcept\u001B[39;00m (ProtocolError, \u001B[38;5;167;01mOSError\u001B[39;00m) \u001B[38;5;28;01mas\u001B[39;00m err:\n",
      "File \u001B[0;32m/opt/anaconda3/lib/python3.11/site-packages/urllib3/connectionpool.py:845\u001B[0m, in \u001B[0;36mHTTPConnectionPool.urlopen\u001B[0;34m(self, method, url, body, headers, retries, redirect, assert_same_host, timeout, pool_timeout, release_conn, chunked, body_pos, preload_content, decode_content, **response_kw)\u001B[0m\n\u001B[1;32m    843\u001B[0m     new_e \u001B[38;5;241m=\u001B[39m ProtocolError(\u001B[38;5;124m\"\u001B[39m\u001B[38;5;124mConnection aborted.\u001B[39m\u001B[38;5;124m\"\u001B[39m, new_e)\n\u001B[0;32m--> 845\u001B[0m retries \u001B[38;5;241m=\u001B[39m retries\u001B[38;5;241m.\u001B[39mincrement(\n\u001B[1;32m    846\u001B[0m     method, url, error\u001B[38;5;241m=\u001B[39mnew_e, _pool\u001B[38;5;241m=\u001B[39m\u001B[38;5;28mself\u001B[39m, _stacktrace\u001B[38;5;241m=\u001B[39msys\u001B[38;5;241m.\u001B[39mexc_info()[\u001B[38;5;241m2\u001B[39m]\n\u001B[1;32m    847\u001B[0m )\n\u001B[1;32m    848\u001B[0m retries\u001B[38;5;241m.\u001B[39msleep()\n",
      "File \u001B[0;32m/opt/anaconda3/lib/python3.11/site-packages/urllib3/util/retry.py:515\u001B[0m, in \u001B[0;36mRetry.increment\u001B[0;34m(self, method, url, response, error, _pool, _stacktrace)\u001B[0m\n\u001B[1;32m    514\u001B[0m     reason \u001B[38;5;241m=\u001B[39m error \u001B[38;5;129;01mor\u001B[39;00m ResponseError(cause)\n\u001B[0;32m--> 515\u001B[0m     \u001B[38;5;28;01mraise\u001B[39;00m MaxRetryError(_pool, url, reason) \u001B[38;5;28;01mfrom\u001B[39;00m \u001B[38;5;21;01mreason\u001B[39;00m  \u001B[38;5;66;03m# type: ignore[arg-type]\u001B[39;00m\n\u001B[1;32m    517\u001B[0m log\u001B[38;5;241m.\u001B[39mdebug(\u001B[38;5;124m\"\u001B[39m\u001B[38;5;124mIncremented Retry for (url=\u001B[39m\u001B[38;5;124m'\u001B[39m\u001B[38;5;132;01m%s\u001B[39;00m\u001B[38;5;124m'\u001B[39m\u001B[38;5;124m): \u001B[39m\u001B[38;5;132;01m%r\u001B[39;00m\u001B[38;5;124m\"\u001B[39m, url, new_retry)\n",
      "\u001B[0;31mMaxRetryError\u001B[0m: HTTPSConnectionPool(host='finance.yahoo.com', port=443): Max retries exceeded with url: /quote/QQQ/history?period1=1705449827&period2=1737021599&interval=1d&frequency=1d&filter=history (Caused by SSLError(SSLCertVerificationError(1, '[SSL: CERTIFICATE_VERIFY_FAILED] certificate verify failed: unable to get local issuer certificate (_ssl.c:1006)')))",
      "\nDuring handling of the above exception, another exception occurred:\n",
      "\u001B[0;31mSSLError\u001B[0m                                  Traceback (most recent call last)",
      "Cell \u001B[0;32mIn[9], line 12\u001B[0m\n\u001B[1;32m      9\u001B[0m start_date \u001B[38;5;241m=\u001B[39m end_date \u001B[38;5;241m-\u001B[39m datetime\u001B[38;5;241m.\u001B[39mtimedelta(days\u001B[38;5;241m=\u001B[39m\u001B[38;5;241m365\u001B[39m)\n\u001B[1;32m     11\u001B[0m \u001B[38;5;66;03m# Fetch the data\u001B[39;00m\n\u001B[0;32m---> 12\u001B[0m data \u001B[38;5;241m=\u001B[39m web\u001B[38;5;241m.\u001B[39mDataReader(ticker_symbol, \u001B[38;5;124m'\u001B[39m\u001B[38;5;124myahoo\u001B[39m\u001B[38;5;124m'\u001B[39m, start_date, end_date)\n\u001B[1;32m     14\u001B[0m \u001B[38;5;66;03m# Select only the 'Open' and 'Close' columns\u001B[39;00m\n\u001B[1;32m     15\u001B[0m data \u001B[38;5;241m=\u001B[39m data[[\u001B[38;5;124m'\u001B[39m\u001B[38;5;124mOpen\u001B[39m\u001B[38;5;124m'\u001B[39m, \u001B[38;5;124m'\u001B[39m\u001B[38;5;124mClose\u001B[39m\u001B[38;5;124m'\u001B[39m]]\n",
      "File \u001B[0;32m/opt/anaconda3/lib/python3.11/site-packages/pandas/util/_decorators.py:213\u001B[0m, in \u001B[0;36mdeprecate_kwarg.<locals>._deprecate_kwarg.<locals>.wrapper\u001B[0;34m(*args, **kwargs)\u001B[0m\n\u001B[1;32m    211\u001B[0m         \u001B[38;5;28;01mraise\u001B[39;00m \u001B[38;5;167;01mTypeError\u001B[39;00m(msg)\n\u001B[1;32m    212\u001B[0m     kwargs[new_arg_name] \u001B[38;5;241m=\u001B[39m new_arg_value\n\u001B[0;32m--> 213\u001B[0m \u001B[38;5;28;01mreturn\u001B[39;00m func(\u001B[38;5;241m*\u001B[39margs, \u001B[38;5;241m*\u001B[39m\u001B[38;5;241m*\u001B[39mkwargs)\n",
      "File \u001B[0;32m/opt/anaconda3/lib/python3.11/site-packages/pandas_datareader/data.py:379\u001B[0m, in \u001B[0;36mDataReader\u001B[0;34m(name, data_source, start, end, retry_count, pause, session, api_key)\u001B[0m\n\u001B[1;32m    367\u001B[0m     \u001B[38;5;28;01mraise\u001B[39;00m \u001B[38;5;167;01mNotImplementedError\u001B[39;00m(msg)\n\u001B[1;32m    369\u001B[0m \u001B[38;5;28;01mif\u001B[39;00m data_source \u001B[38;5;241m==\u001B[39m \u001B[38;5;124m\"\u001B[39m\u001B[38;5;124myahoo\u001B[39m\u001B[38;5;124m\"\u001B[39m:\n\u001B[1;32m    370\u001B[0m     \u001B[38;5;28;01mreturn\u001B[39;00m YahooDailyReader(\n\u001B[1;32m    371\u001B[0m         symbols\u001B[38;5;241m=\u001B[39mname,\n\u001B[1;32m    372\u001B[0m         start\u001B[38;5;241m=\u001B[39mstart,\n\u001B[1;32m    373\u001B[0m         end\u001B[38;5;241m=\u001B[39mend,\n\u001B[1;32m    374\u001B[0m         adjust_price\u001B[38;5;241m=\u001B[39m\u001B[38;5;28;01mFalse\u001B[39;00m,\n\u001B[1;32m    375\u001B[0m         chunksize\u001B[38;5;241m=\u001B[39m\u001B[38;5;241m25\u001B[39m,\n\u001B[1;32m    376\u001B[0m         retry_count\u001B[38;5;241m=\u001B[39mretry_count,\n\u001B[1;32m    377\u001B[0m         pause\u001B[38;5;241m=\u001B[39mpause,\n\u001B[1;32m    378\u001B[0m         session\u001B[38;5;241m=\u001B[39msession,\n\u001B[0;32m--> 379\u001B[0m     )\u001B[38;5;241m.\u001B[39mread()\n\u001B[1;32m    381\u001B[0m \u001B[38;5;28;01melif\u001B[39;00m data_source \u001B[38;5;241m==\u001B[39m \u001B[38;5;124m\"\u001B[39m\u001B[38;5;124miex\u001B[39m\u001B[38;5;124m\"\u001B[39m:\n\u001B[1;32m    382\u001B[0m     \u001B[38;5;28;01mreturn\u001B[39;00m IEXDailyReader(\n\u001B[1;32m    383\u001B[0m         symbols\u001B[38;5;241m=\u001B[39mname,\n\u001B[1;32m    384\u001B[0m         start\u001B[38;5;241m=\u001B[39mstart,\n\u001B[0;32m   (...)\u001B[0m\n\u001B[1;32m    390\u001B[0m         session\u001B[38;5;241m=\u001B[39msession,\n\u001B[1;32m    391\u001B[0m     )\u001B[38;5;241m.\u001B[39mread()\n",
      "File \u001B[0;32m/opt/anaconda3/lib/python3.11/site-packages/pandas_datareader/base.py:253\u001B[0m, in \u001B[0;36m_DailyBaseReader.read\u001B[0;34m(self)\u001B[0m\n\u001B[1;32m    251\u001B[0m \u001B[38;5;66;03m# If a single symbol, (e.g., 'GOOG')\u001B[39;00m\n\u001B[1;32m    252\u001B[0m \u001B[38;5;28;01mif\u001B[39;00m \u001B[38;5;28misinstance\u001B[39m(\u001B[38;5;28mself\u001B[39m\u001B[38;5;241m.\u001B[39msymbols, (string_types, \u001B[38;5;28mint\u001B[39m)):\n\u001B[0;32m--> 253\u001B[0m     df \u001B[38;5;241m=\u001B[39m \u001B[38;5;28mself\u001B[39m\u001B[38;5;241m.\u001B[39m_read_one_data(\u001B[38;5;28mself\u001B[39m\u001B[38;5;241m.\u001B[39murl, params\u001B[38;5;241m=\u001B[39m\u001B[38;5;28mself\u001B[39m\u001B[38;5;241m.\u001B[39m_get_params(\u001B[38;5;28mself\u001B[39m\u001B[38;5;241m.\u001B[39msymbols))\n\u001B[1;32m    254\u001B[0m \u001B[38;5;66;03m# Or multiple symbols, (e.g., ['GOOG', 'AAPL', 'MSFT'])\u001B[39;00m\n\u001B[1;32m    255\u001B[0m \u001B[38;5;28;01melif\u001B[39;00m \u001B[38;5;28misinstance\u001B[39m(\u001B[38;5;28mself\u001B[39m\u001B[38;5;241m.\u001B[39msymbols, DataFrame):\n",
      "File \u001B[0;32m/opt/anaconda3/lib/python3.11/site-packages/pandas_datareader/yahoo/daily.py:149\u001B[0m, in \u001B[0;36mYahooDailyReader._read_one_data\u001B[0;34m(self, url, params)\u001B[0m\n\u001B[1;32m    146\u001B[0m \u001B[38;5;28;01mdel\u001B[39;00m params[\u001B[38;5;124m\"\u001B[39m\u001B[38;5;124msymbol\u001B[39m\u001B[38;5;124m\"\u001B[39m]\n\u001B[1;32m    147\u001B[0m url \u001B[38;5;241m=\u001B[39m url\u001B[38;5;241m.\u001B[39mformat(symbol)\n\u001B[0;32m--> 149\u001B[0m resp \u001B[38;5;241m=\u001B[39m \u001B[38;5;28mself\u001B[39m\u001B[38;5;241m.\u001B[39m_get_response(url, params\u001B[38;5;241m=\u001B[39mparams, headers\u001B[38;5;241m=\u001B[39m\u001B[38;5;28mself\u001B[39m\u001B[38;5;241m.\u001B[39mheaders)\n\u001B[1;32m    150\u001B[0m ptrn \u001B[38;5;241m=\u001B[39m \u001B[38;5;124mr\u001B[39m\u001B[38;5;124m\"\u001B[39m\u001B[38;5;124mroot\u001B[39m\u001B[38;5;124m\\\u001B[39m\u001B[38;5;124m.App\u001B[39m\u001B[38;5;124m\\\u001B[39m\u001B[38;5;124m.main = (.*?);\u001B[39m\u001B[38;5;124m\\\u001B[39m\u001B[38;5;124mn}\u001B[39m\u001B[38;5;124m\\\u001B[39m\u001B[38;5;124m(this\u001B[39m\u001B[38;5;124m\\\u001B[39m\u001B[38;5;124m)\u001B[39m\u001B[38;5;124m\\\u001B[39m\u001B[38;5;124m);\u001B[39m\u001B[38;5;124m\"\u001B[39m\n\u001B[1;32m    151\u001B[0m \u001B[38;5;28;01mtry\u001B[39;00m:\n",
      "File \u001B[0;32m/opt/anaconda3/lib/python3.11/site-packages/pandas_datareader/base.py:155\u001B[0m, in \u001B[0;36m_BaseReader._get_response\u001B[0;34m(self, url, params, headers)\u001B[0m\n\u001B[1;32m    153\u001B[0m last_response_text \u001B[38;5;241m=\u001B[39m \u001B[38;5;124m\"\u001B[39m\u001B[38;5;124m\"\u001B[39m\n\u001B[1;32m    154\u001B[0m \u001B[38;5;28;01mfor\u001B[39;00m _ \u001B[38;5;129;01min\u001B[39;00m \u001B[38;5;28mrange\u001B[39m(\u001B[38;5;28mself\u001B[39m\u001B[38;5;241m.\u001B[39mretry_count \u001B[38;5;241m+\u001B[39m \u001B[38;5;241m1\u001B[39m):\n\u001B[0;32m--> 155\u001B[0m     response \u001B[38;5;241m=\u001B[39m \u001B[38;5;28mself\u001B[39m\u001B[38;5;241m.\u001B[39msession\u001B[38;5;241m.\u001B[39mget(\n\u001B[1;32m    156\u001B[0m         url, params\u001B[38;5;241m=\u001B[39mparams, headers\u001B[38;5;241m=\u001B[39mheaders, timeout\u001B[38;5;241m=\u001B[39m\u001B[38;5;28mself\u001B[39m\u001B[38;5;241m.\u001B[39mtimeout\n\u001B[1;32m    157\u001B[0m     )\n\u001B[1;32m    158\u001B[0m     \u001B[38;5;28;01mif\u001B[39;00m response\u001B[38;5;241m.\u001B[39mstatus_code \u001B[38;5;241m==\u001B[39m requests\u001B[38;5;241m.\u001B[39mcodes\u001B[38;5;241m.\u001B[39mok:\n\u001B[1;32m    159\u001B[0m         \u001B[38;5;28;01mreturn\u001B[39;00m response\n",
      "File \u001B[0;32m/opt/anaconda3/lib/python3.11/site-packages/requests/sessions.py:602\u001B[0m, in \u001B[0;36mSession.get\u001B[0;34m(self, url, **kwargs)\u001B[0m\n\u001B[1;32m    594\u001B[0m \u001B[38;5;250m\u001B[39m\u001B[38;5;124mr\u001B[39m\u001B[38;5;124;03m\"\"\"Sends a GET request. Returns :class:`Response` object.\u001B[39;00m\n\u001B[1;32m    595\u001B[0m \n\u001B[1;32m    596\u001B[0m \u001B[38;5;124;03m:param url: URL for the new :class:`Request` object.\u001B[39;00m\n\u001B[1;32m    597\u001B[0m \u001B[38;5;124;03m:param \\*\\*kwargs: Optional arguments that ``request`` takes.\u001B[39;00m\n\u001B[1;32m    598\u001B[0m \u001B[38;5;124;03m:rtype: requests.Response\u001B[39;00m\n\u001B[1;32m    599\u001B[0m \u001B[38;5;124;03m\"\"\"\u001B[39;00m\n\u001B[1;32m    601\u001B[0m kwargs\u001B[38;5;241m.\u001B[39msetdefault(\u001B[38;5;124m\"\u001B[39m\u001B[38;5;124mallow_redirects\u001B[39m\u001B[38;5;124m\"\u001B[39m, \u001B[38;5;28;01mTrue\u001B[39;00m)\n\u001B[0;32m--> 602\u001B[0m \u001B[38;5;28;01mreturn\u001B[39;00m \u001B[38;5;28mself\u001B[39m\u001B[38;5;241m.\u001B[39mrequest(\u001B[38;5;124m\"\u001B[39m\u001B[38;5;124mGET\u001B[39m\u001B[38;5;124m\"\u001B[39m, url, \u001B[38;5;241m*\u001B[39m\u001B[38;5;241m*\u001B[39mkwargs)\n",
      "File \u001B[0;32m/opt/anaconda3/lib/python3.11/site-packages/requests/sessions.py:589\u001B[0m, in \u001B[0;36mSession.request\u001B[0;34m(self, method, url, params, data, headers, cookies, files, auth, timeout, allow_redirects, proxies, hooks, stream, verify, cert, json)\u001B[0m\n\u001B[1;32m    584\u001B[0m send_kwargs \u001B[38;5;241m=\u001B[39m {\n\u001B[1;32m    585\u001B[0m     \u001B[38;5;124m\"\u001B[39m\u001B[38;5;124mtimeout\u001B[39m\u001B[38;5;124m\"\u001B[39m: timeout,\n\u001B[1;32m    586\u001B[0m     \u001B[38;5;124m\"\u001B[39m\u001B[38;5;124mallow_redirects\u001B[39m\u001B[38;5;124m\"\u001B[39m: allow_redirects,\n\u001B[1;32m    587\u001B[0m }\n\u001B[1;32m    588\u001B[0m send_kwargs\u001B[38;5;241m.\u001B[39mupdate(settings)\n\u001B[0;32m--> 589\u001B[0m resp \u001B[38;5;241m=\u001B[39m \u001B[38;5;28mself\u001B[39m\u001B[38;5;241m.\u001B[39msend(prep, \u001B[38;5;241m*\u001B[39m\u001B[38;5;241m*\u001B[39msend_kwargs)\n\u001B[1;32m    591\u001B[0m \u001B[38;5;28;01mreturn\u001B[39;00m resp\n",
      "File \u001B[0;32m/opt/anaconda3/lib/python3.11/site-packages/requests/sessions.py:703\u001B[0m, in \u001B[0;36mSession.send\u001B[0;34m(self, request, **kwargs)\u001B[0m\n\u001B[1;32m    700\u001B[0m start \u001B[38;5;241m=\u001B[39m preferred_clock()\n\u001B[1;32m    702\u001B[0m \u001B[38;5;66;03m# Send the request\u001B[39;00m\n\u001B[0;32m--> 703\u001B[0m r \u001B[38;5;241m=\u001B[39m adapter\u001B[38;5;241m.\u001B[39msend(request, \u001B[38;5;241m*\u001B[39m\u001B[38;5;241m*\u001B[39mkwargs)\n\u001B[1;32m    705\u001B[0m \u001B[38;5;66;03m# Total elapsed time of the request (approximately)\u001B[39;00m\n\u001B[1;32m    706\u001B[0m elapsed \u001B[38;5;241m=\u001B[39m preferred_clock() \u001B[38;5;241m-\u001B[39m start\n",
      "File \u001B[0;32m/opt/anaconda3/lib/python3.11/site-packages/requests/adapters.py:517\u001B[0m, in \u001B[0;36mHTTPAdapter.send\u001B[0;34m(self, request, stream, timeout, verify, cert, proxies)\u001B[0m\n\u001B[1;32m    513\u001B[0m         \u001B[38;5;28;01mraise\u001B[39;00m ProxyError(e, request\u001B[38;5;241m=\u001B[39mrequest)\n\u001B[1;32m    515\u001B[0m     \u001B[38;5;28;01mif\u001B[39;00m \u001B[38;5;28misinstance\u001B[39m(e\u001B[38;5;241m.\u001B[39mreason, _SSLError):\n\u001B[1;32m    516\u001B[0m         \u001B[38;5;66;03m# This branch is for urllib3 v1.22 and later.\u001B[39;00m\n\u001B[0;32m--> 517\u001B[0m         \u001B[38;5;28;01mraise\u001B[39;00m SSLError(e, request\u001B[38;5;241m=\u001B[39mrequest)\n\u001B[1;32m    519\u001B[0m     \u001B[38;5;28;01mraise\u001B[39;00m \u001B[38;5;167;01mConnectionError\u001B[39;00m(e, request\u001B[38;5;241m=\u001B[39mrequest)\n\u001B[1;32m    521\u001B[0m \u001B[38;5;28;01mexcept\u001B[39;00m ClosedPoolError \u001B[38;5;28;01mas\u001B[39;00m e:\n",
      "\u001B[0;31mSSLError\u001B[0m: HTTPSConnectionPool(host='finance.yahoo.com', port=443): Max retries exceeded with url: /quote/QQQ/history?period1=1705449827&period2=1737021599&interval=1d&frequency=1d&filter=history (Caused by SSLError(SSLCertVerificationError(1, '[SSL: CERTIFICATE_VERIFY_FAILED] certificate verify failed: unable to get local issuer certificate (_ssl.c:1006)')))"
     ]
    }
   ],
   "execution_count": 9
  },
  {
   "metadata": {
    "ExecuteTime": {
     "end_time": "2025-01-15T20:03:41.876984Z",
     "start_time": "2025-01-15T20:03:39.439144Z"
    }
   },
   "cell_type": "code",
   "source": "!pip install pandas_datareader",
   "id": "eea11cea896d36aa",
   "outputs": [
    {
     "name": "stdout",
     "output_type": "stream",
     "text": [
      "Collecting pandas_datareader\r\n",
      "  Downloading pandas_datareader-0.10.0-py3-none-any.whl (109 kB)\r\n",
      "\u001B[2K     \u001B[90m━━━━━━━━━━━━━━━━━━━━━━━━━━━━━━━━━━━━━━━\u001B[0m \u001B[32m109.5/109.5 kB\u001B[0m \u001B[31m2.5 MB/s\u001B[0m eta \u001B[36m0:00:00\u001B[0ma \u001B[36m0:00:01\u001B[0m\r\n",
      "\u001B[?25hRequirement already satisfied: lxml in /opt/anaconda3/lib/python3.11/site-packages (from pandas_datareader) (4.9.3)\r\n",
      "Requirement already satisfied: pandas>=0.23 in /opt/anaconda3/lib/python3.11/site-packages (from pandas_datareader) (2.2.3)\r\n",
      "Requirement already satisfied: requests>=2.19.0 in /opt/anaconda3/lib/python3.11/site-packages (from pandas_datareader) (2.31.0)\r\n",
      "Requirement already satisfied: numpy>=1.23.2 in /opt/anaconda3/lib/python3.11/site-packages (from pandas>=0.23->pandas_datareader) (1.26.4)\r\n",
      "Requirement already satisfied: python-dateutil>=2.8.2 in /opt/anaconda3/lib/python3.11/site-packages (from pandas>=0.23->pandas_datareader) (2.8.2)\r\n",
      "Requirement already satisfied: pytz>=2020.1 in /opt/anaconda3/lib/python3.11/site-packages (from pandas>=0.23->pandas_datareader) (2023.3.post1)\r\n",
      "Requirement already satisfied: tzdata>=2022.7 in /opt/anaconda3/lib/python3.11/site-packages (from pandas>=0.23->pandas_datareader) (2023.3)\r\n",
      "Requirement already satisfied: charset-normalizer<4,>=2 in /opt/anaconda3/lib/python3.11/site-packages (from requests>=2.19.0->pandas_datareader) (2.0.4)\r\n",
      "Requirement already satisfied: idna<4,>=2.5 in /opt/anaconda3/lib/python3.11/site-packages (from requests>=2.19.0->pandas_datareader) (3.4)\r\n",
      "Requirement already satisfied: urllib3<3,>=1.21.1 in /opt/anaconda3/lib/python3.11/site-packages (from requests>=2.19.0->pandas_datareader) (2.0.7)\r\n",
      "Requirement already satisfied: certifi>=2017.4.17 in /opt/anaconda3/lib/python3.11/site-packages (from requests>=2.19.0->pandas_datareader) (2024.12.14)\r\n",
      "Requirement already satisfied: six>=1.5 in /opt/anaconda3/lib/python3.11/site-packages (from python-dateutil>=2.8.2->pandas>=0.23->pandas_datareader) (1.16.0)\r\n",
      "Installing collected packages: pandas_datareader\r\n",
      "Successfully installed pandas_datareader-0.10.0\r\n",
      "\u001B[33mWARNING: There was an error checking the latest version of pip.\u001B[0m\u001B[33m\r\n",
      "\u001B[0m"
     ]
    }
   ],
   "execution_count": 8
  },
  {
   "metadata": {},
   "cell_type": "code",
   "outputs": [],
   "execution_count": null,
   "source": "",
   "id": "9f02a20cb09745cd"
  }
 ],
 "metadata": {
  "kernelspec": {
   "display_name": "Python 3",
   "language": "python",
   "name": "python3"
  },
  "language_info": {
   "codemirror_mode": {
    "name": "ipython",
    "version": 2
   },
   "file_extension": ".py",
   "mimetype": "text/x-python",
   "name": "python",
   "nbconvert_exporter": "python",
   "pygments_lexer": "ipython2",
   "version": "2.7.6"
  }
 },
 "nbformat": 4,
 "nbformat_minor": 5
}
