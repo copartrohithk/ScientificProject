{
 "cells": [
  {
   "cell_type": "code",
   "id": "initial_id",
   "metadata": {
    "collapsed": true,
    "ExecuteTime": {
     "end_time": "2025-03-27T15:01:50.528802Z",
     "start_time": "2025-03-27T15:01:50.433016Z"
    }
   },
   "source": [
    "import pandas as pd\n",
    "import numpy as np\n",
    "\n",
    "import warnings\n",
    "\n",
    "from google.cloud import bigquery\n",
    "from google.cloud import bigquery_storage\n",
    "creds = '/Users/rokokkula/Documents/cprtpr-datastewards-sp1-stewardapp-prbq_2_1.json'\n",
    "client = bigquery.Client.from_service_account_json(json_credentials_path=creds)\n",
    "bqstorageclient = bigquery_storage.BigQueryReadClient(credentials=creds)\n",
    "from IPython.core.interactiveshell import InteractiveShell\n",
    "InteractiveShell.ast_node_interactivity = \"all\""
   ],
   "outputs": [],
   "execution_count": 7
  },
  {
   "metadata": {
    "ExecuteTime": {
     "end_time": "2025-03-27T15:04:16.662146Z",
     "start_time": "2025-03-27T15:01:51.819899Z"
    }
   },
   "cell_type": "code",
   "source": [
    "query = \"\"\"\n",
    "select *\n",
    "from `cprtpr-dataplatform-sp1`.usviews.v_us_lot_fact\n",
    "where inv_dt > '2025-01-01'\n",
    "        AND lot_type_cd IN ('V')\n",
    "        AND yard_country_cd = 'USA'\n",
    "limit 1\n",
    "\"\"\"\n",
    "\n",
    "\n",
    "data = client.query(query).to_dataframe()"
   ],
   "id": "f912947063448dbe",
   "outputs": [],
   "execution_count": 8
  },
  {
   "metadata": {
    "ExecuteTime": {
     "end_time": "2025-03-25T16:34:43.700734Z",
     "start_time": "2025-03-25T16:34:43.684520Z"
    }
   },
   "cell_type": "code",
   "source": "data\n",
   "id": "3e75e98b83569210",
   "outputs": [
    {
     "data": {
      "text/plain": [
       "    lot_nbr   auc_id auc_type_cd      auc_dt  cas_auc_dt  prelim_bid  \\\n",
       "0  48416573  6280025           L  2023-05-16  2023-05-16     18200.0   \n",
       "\n",
       "   max_regular_bid_before_bonus_time  max_bonus_bid  buyer_regular_fee  \\\n",
       "0                            29500.0            0.0              650.0   \n",
       "\n",
       "   buyer_bonus_fee  ...  min_bid  orig_min_bid  changed_reserve_bid  \\\n",
       "0              0.0  ...  30000.0       46500.0                 <NA>   \n",
       "\n",
       "   curr_bid_amt  starting_bid  curr_high_bid_id  curr_high_bid_amt  \\\n",
       "0       29500.0           0.0        2200604129            29500.0   \n",
       "\n",
       "         auction_dttm_yd_tz  win_bid_type  is_enginesound_captured  \n",
       "0 2023-05-16 12:00:00+00:00             V                     None  \n",
       "\n",
       "[1 rows x 68 columns]"
      ],
      "text/html": [
       "<div>\n",
       "<style scoped>\n",
       "    .dataframe tbody tr th:only-of-type {\n",
       "        vertical-align: middle;\n",
       "    }\n",
       "\n",
       "    .dataframe tbody tr th {\n",
       "        vertical-align: top;\n",
       "    }\n",
       "\n",
       "    .dataframe thead th {\n",
       "        text-align: right;\n",
       "    }\n",
       "</style>\n",
       "<table border=\"1\" class=\"dataframe\">\n",
       "  <thead>\n",
       "    <tr style=\"text-align: right;\">\n",
       "      <th></th>\n",
       "      <th>lot_nbr</th>\n",
       "      <th>auc_id</th>\n",
       "      <th>auc_type_cd</th>\n",
       "      <th>auc_dt</th>\n",
       "      <th>cas_auc_dt</th>\n",
       "      <th>prelim_bid</th>\n",
       "      <th>max_regular_bid_before_bonus_time</th>\n",
       "      <th>max_bonus_bid</th>\n",
       "      <th>buyer_regular_fee</th>\n",
       "      <th>buyer_bonus_fee</th>\n",
       "      <th>...</th>\n",
       "      <th>min_bid</th>\n",
       "      <th>orig_min_bid</th>\n",
       "      <th>changed_reserve_bid</th>\n",
       "      <th>curr_bid_amt</th>\n",
       "      <th>starting_bid</th>\n",
       "      <th>curr_high_bid_id</th>\n",
       "      <th>curr_high_bid_amt</th>\n",
       "      <th>auction_dttm_yd_tz</th>\n",
       "      <th>win_bid_type</th>\n",
       "      <th>is_enginesound_captured</th>\n",
       "    </tr>\n",
       "  </thead>\n",
       "  <tbody>\n",
       "    <tr>\n",
       "      <th>0</th>\n",
       "      <td>48416573</td>\n",
       "      <td>6280025</td>\n",
       "      <td>L</td>\n",
       "      <td>2023-05-16</td>\n",
       "      <td>2023-05-16</td>\n",
       "      <td>18200.0</td>\n",
       "      <td>29500.0</td>\n",
       "      <td>0.0</td>\n",
       "      <td>650.0</td>\n",
       "      <td>0.0</td>\n",
       "      <td>...</td>\n",
       "      <td>30000.0</td>\n",
       "      <td>46500.0</td>\n",
       "      <td>&lt;NA&gt;</td>\n",
       "      <td>29500.0</td>\n",
       "      <td>0.0</td>\n",
       "      <td>2200604129</td>\n",
       "      <td>29500.0</td>\n",
       "      <td>2023-05-16 12:00:00+00:00</td>\n",
       "      <td>V</td>\n",
       "      <td>None</td>\n",
       "    </tr>\n",
       "  </tbody>\n",
       "</table>\n",
       "<p>1 rows × 68 columns</p>\n",
       "</div>"
      ]
     },
     "execution_count": 7,
     "metadata": {},
     "output_type": "execute_result"
    }
   ],
   "execution_count": 7
  },
  {
   "metadata": {
    "ExecuteTime": {
     "end_time": "2025-03-06T21:25:29.706128Z",
     "start_time": "2025-03-06T21:25:28.185837Z"
    }
   },
   "cell_type": "code",
   "source": [
    "query = \"\"\"\n",
    "select * from  `copart-member-prod.fullstory.fullstory_events_o-1YQSMD-na1` where device_id is not null\n",
    "limit 100000\n",
    "\n",
    "\"\"\"\n",
    "\n",
    "df= client.query(query).to_dataframe()"
   ],
   "id": "c6cb34ba1c8cad2d",
   "outputs": [
    {
     "ename": "Forbidden",
     "evalue": "403 Access Denied: Table copart-member-prod:fullstory.fullstory_events_o-1YQSMD-na1: User does not have permission to query table copart-member-prod:fullstory.fullstory_events_o-1YQSMD-na1, or perhaps it does not exist.; reason: accessDenied, message: Access Denied: Table copart-member-prod:fullstory.fullstory_events_o-1YQSMD-na1: User does not have permission to query table copart-member-prod:fullstory.fullstory_events_o-1YQSMD-na1, or perhaps it does not exist.\n\nLocation: us-west4\nJob ID: 84f77799-6e24-4d54-bf04-6e0be505494d\n",
     "output_type": "error",
     "traceback": [
      "\u001B[31m---------------------------------------------------------------------------\u001B[39m",
      "\u001B[31mForbidden\u001B[39m                                 Traceback (most recent call last)",
      "\u001B[36mCell\u001B[39m\u001B[36m \u001B[39m\u001B[32mIn[3]\u001B[39m\u001B[32m, line 7\u001B[39m\n\u001B[32m      1\u001B[39m query = \u001B[33m\"\"\"\u001B[39m\n\u001B[32m      2\u001B[39m \u001B[33mselect * from  `copart-member-prod.fullstory.fullstory_events_o-1YQSMD-na1` where device_id is not null\u001B[39m\n\u001B[32m      3\u001B[39m \u001B[33mlimit 100000\u001B[39m\n\u001B[32m      4\u001B[39m \n\u001B[32m      5\u001B[39m \u001B[33m\"\"\"\u001B[39m\n\u001B[32m----> \u001B[39m\u001B[32m7\u001B[39m df= \u001B[43mclient\u001B[49m\u001B[43m.\u001B[49m\u001B[43mquery\u001B[49m\u001B[43m(\u001B[49m\u001B[43mquery\u001B[49m\u001B[43m)\u001B[49m\u001B[43m.\u001B[49m\u001B[43mto_dataframe\u001B[49m\u001B[43m(\u001B[49m\u001B[43m)\u001B[49m\n",
      "\u001B[36mFile \u001B[39m\u001B[32m/opt/anaconda3/envs/scientificProject/lib/python3.12/site-packages/google/cloud/bigquery/job/query.py:2057\u001B[39m, in \u001B[36mQueryJob.to_dataframe\u001B[39m\u001B[34m(self, bqstorage_client, dtypes, progress_bar_type, create_bqstorage_client, max_results, geography_as_object, bool_dtype, int_dtype, float_dtype, string_dtype, date_dtype, datetime_dtype, time_dtype, timestamp_dtype, range_date_dtype, range_datetime_dtype, range_timestamp_dtype)\u001B[39m\n\u001B[32m   1827\u001B[39m \u001B[38;5;28;01mdef\u001B[39;00m\u001B[38;5;250m \u001B[39m\u001B[34mto_dataframe\u001B[39m(\n\u001B[32m   1828\u001B[39m     \u001B[38;5;28mself\u001B[39m,\n\u001B[32m   1829\u001B[39m     bqstorage_client: Optional[\u001B[33m\"\u001B[39m\u001B[33mbigquery_storage.BigQueryReadClient\u001B[39m\u001B[33m\"\u001B[39m] = \u001B[38;5;28;01mNone\u001B[39;00m,\n\u001B[32m   (...)\u001B[39m\u001B[32m   1849\u001B[39m     ] = DefaultPandasDTypes.RANGE_TIMESTAMP_DTYPE,\n\u001B[32m   1850\u001B[39m ) -> \u001B[33m\"\u001B[39m\u001B[33mpandas.DataFrame\u001B[39m\u001B[33m\"\u001B[39m:\n\u001B[32m   1851\u001B[39m \u001B[38;5;250m    \u001B[39m\u001B[33;03m\"\"\"Return a pandas DataFrame from a QueryJob\u001B[39;00m\n\u001B[32m   1852\u001B[39m \n\u001B[32m   1853\u001B[39m \u001B[33;03m    Args:\u001B[39;00m\n\u001B[32m   (...)\u001B[39m\u001B[32m   2055\u001B[39m \u001B[33;03m            :mod:`shapely` library cannot be imported.\u001B[39;00m\n\u001B[32m   2056\u001B[39m \u001B[33;03m    \"\"\"\u001B[39;00m\n\u001B[32m-> \u001B[39m\u001B[32m2057\u001B[39m     query_result = \u001B[43mwait_for_query\u001B[49m\u001B[43m(\u001B[49m\u001B[38;5;28;43mself\u001B[39;49m\u001B[43m,\u001B[49m\u001B[43m \u001B[49m\u001B[43mprogress_bar_type\u001B[49m\u001B[43m,\u001B[49m\u001B[43m \u001B[49m\u001B[43mmax_results\u001B[49m\u001B[43m=\u001B[49m\u001B[43mmax_results\u001B[49m\u001B[43m)\u001B[49m\n\u001B[32m   2058\u001B[39m     \u001B[38;5;28;01mreturn\u001B[39;00m query_result.to_dataframe(\n\u001B[32m   2059\u001B[39m         bqstorage_client=bqstorage_client,\n\u001B[32m   2060\u001B[39m         dtypes=dtypes,\n\u001B[32m   (...)\u001B[39m\u001B[32m   2074\u001B[39m         range_timestamp_dtype=range_timestamp_dtype,\n\u001B[32m   2075\u001B[39m     )\n",
      "\u001B[36mFile \u001B[39m\u001B[32m/opt/anaconda3/envs/scientificProject/lib/python3.12/site-packages/google/cloud/bigquery/_tqdm_helpers.py:107\u001B[39m, in \u001B[36mwait_for_query\u001B[39m\u001B[34m(query_job, progress_bar_type, max_results)\u001B[39m\n\u001B[32m    103\u001B[39m progress_bar = get_progress_bar(\n\u001B[32m    104\u001B[39m     progress_bar_type, \u001B[33m\"\u001B[39m\u001B[33mQuery is running\u001B[39m\u001B[33m\"\u001B[39m, default_total, \u001B[33m\"\u001B[39m\u001B[33mquery\u001B[39m\u001B[33m\"\u001B[39m\n\u001B[32m    105\u001B[39m )\n\u001B[32m    106\u001B[39m \u001B[38;5;28;01mif\u001B[39;00m progress_bar \u001B[38;5;129;01mis\u001B[39;00m \u001B[38;5;28;01mNone\u001B[39;00m:\n\u001B[32m--> \u001B[39m\u001B[32m107\u001B[39m     \u001B[38;5;28;01mreturn\u001B[39;00m \u001B[43mquery_job\u001B[49m\u001B[43m.\u001B[49m\u001B[43mresult\u001B[49m\u001B[43m(\u001B[49m\u001B[43mmax_results\u001B[49m\u001B[43m=\u001B[49m\u001B[43mmax_results\u001B[49m\u001B[43m)\u001B[49m\n\u001B[32m    109\u001B[39m i = \u001B[32m0\u001B[39m\n\u001B[32m    110\u001B[39m \u001B[38;5;28;01mwhile\u001B[39;00m \u001B[38;5;28;01mTrue\u001B[39;00m:\n",
      "\u001B[36mFile \u001B[39m\u001B[32m/opt/anaconda3/envs/scientificProject/lib/python3.12/site-packages/google/cloud/bigquery/job/query.py:1681\u001B[39m, in \u001B[36mQueryJob.result\u001B[39m\u001B[34m(self, page_size, max_results, retry, timeout, start_index, job_retry)\u001B[39m\n\u001B[32m   1676\u001B[39m     remaining_timeout = \u001B[38;5;28;01mNone\u001B[39;00m\n\u001B[32m   1678\u001B[39m \u001B[38;5;28;01mif\u001B[39;00m remaining_timeout \u001B[38;5;129;01mis\u001B[39;00m \u001B[38;5;28;01mNone\u001B[39;00m:\n\u001B[32m   1679\u001B[39m     \u001B[38;5;66;03m# Since is_job_done() calls jobs.getQueryResults, which is a\u001B[39;00m\n\u001B[32m   1680\u001B[39m     \u001B[38;5;66;03m# long-running API, don't delay the next request at all.\u001B[39;00m\n\u001B[32m-> \u001B[39m\u001B[32m1681\u001B[39m     \u001B[38;5;28;01mwhile\u001B[39;00m \u001B[38;5;129;01mnot\u001B[39;00m \u001B[43mis_job_done\u001B[49m\u001B[43m(\u001B[49m\u001B[43m)\u001B[49m:\n\u001B[32m   1682\u001B[39m         \u001B[38;5;28;01mpass\u001B[39;00m\n\u001B[32m   1683\u001B[39m \u001B[38;5;28;01melse\u001B[39;00m:\n\u001B[32m   1684\u001B[39m     \u001B[38;5;66;03m# Use a monotonic clock since we don't actually care about\u001B[39;00m\n\u001B[32m   1685\u001B[39m     \u001B[38;5;66;03m# daylight savings or similar, just the elapsed time.\u001B[39;00m\n",
      "\u001B[36mFile \u001B[39m\u001B[32m/opt/anaconda3/envs/scientificProject/lib/python3.12/site-packages/google/api_core/retry/retry_unary.py:293\u001B[39m, in \u001B[36mRetry.__call__.<locals>.retry_wrapped_func\u001B[39m\u001B[34m(*args, **kwargs)\u001B[39m\n\u001B[32m    289\u001B[39m target = functools.partial(func, *args, **kwargs)\n\u001B[32m    290\u001B[39m sleep_generator = exponential_sleep_generator(\n\u001B[32m    291\u001B[39m     \u001B[38;5;28mself\u001B[39m._initial, \u001B[38;5;28mself\u001B[39m._maximum, multiplier=\u001B[38;5;28mself\u001B[39m._multiplier\n\u001B[32m    292\u001B[39m )\n\u001B[32m--> \u001B[39m\u001B[32m293\u001B[39m \u001B[38;5;28;01mreturn\u001B[39;00m \u001B[43mretry_target\u001B[49m\u001B[43m(\u001B[49m\n\u001B[32m    294\u001B[39m \u001B[43m    \u001B[49m\u001B[43mtarget\u001B[49m\u001B[43m,\u001B[49m\n\u001B[32m    295\u001B[39m \u001B[43m    \u001B[49m\u001B[38;5;28;43mself\u001B[39;49m\u001B[43m.\u001B[49m\u001B[43m_predicate\u001B[49m\u001B[43m,\u001B[49m\n\u001B[32m    296\u001B[39m \u001B[43m    \u001B[49m\u001B[43msleep_generator\u001B[49m\u001B[43m,\u001B[49m\n\u001B[32m    297\u001B[39m \u001B[43m    \u001B[49m\u001B[43mtimeout\u001B[49m\u001B[43m=\u001B[49m\u001B[38;5;28;43mself\u001B[39;49m\u001B[43m.\u001B[49m\u001B[43m_timeout\u001B[49m\u001B[43m,\u001B[49m\n\u001B[32m    298\u001B[39m \u001B[43m    \u001B[49m\u001B[43mon_error\u001B[49m\u001B[43m=\u001B[49m\u001B[43mon_error\u001B[49m\u001B[43m,\u001B[49m\n\u001B[32m    299\u001B[39m \u001B[43m\u001B[49m\u001B[43m)\u001B[49m\n",
      "\u001B[36mFile \u001B[39m\u001B[32m/opt/anaconda3/envs/scientificProject/lib/python3.12/site-packages/google/api_core/retry/retry_unary.py:153\u001B[39m, in \u001B[36mretry_target\u001B[39m\u001B[34m(target, predicate, sleep_generator, timeout, on_error, exception_factory, **kwargs)\u001B[39m\n\u001B[32m    149\u001B[39m \u001B[38;5;66;03m# pylint: disable=broad-except\u001B[39;00m\n\u001B[32m    150\u001B[39m \u001B[38;5;66;03m# This function explicitly must deal with broad exceptions.\u001B[39;00m\n\u001B[32m    151\u001B[39m \u001B[38;5;28;01mexcept\u001B[39;00m \u001B[38;5;167;01mException\u001B[39;00m \u001B[38;5;28;01mas\u001B[39;00m exc:\n\u001B[32m    152\u001B[39m     \u001B[38;5;66;03m# defer to shared logic for handling errors\u001B[39;00m\n\u001B[32m--> \u001B[39m\u001B[32m153\u001B[39m     \u001B[43m_retry_error_helper\u001B[49m\u001B[43m(\u001B[49m\n\u001B[32m    154\u001B[39m \u001B[43m        \u001B[49m\u001B[43mexc\u001B[49m\u001B[43m,\u001B[49m\n\u001B[32m    155\u001B[39m \u001B[43m        \u001B[49m\u001B[43mdeadline\u001B[49m\u001B[43m,\u001B[49m\n\u001B[32m    156\u001B[39m \u001B[43m        \u001B[49m\u001B[43msleep\u001B[49m\u001B[43m,\u001B[49m\n\u001B[32m    157\u001B[39m \u001B[43m        \u001B[49m\u001B[43merror_list\u001B[49m\u001B[43m,\u001B[49m\n\u001B[32m    158\u001B[39m \u001B[43m        \u001B[49m\u001B[43mpredicate\u001B[49m\u001B[43m,\u001B[49m\n\u001B[32m    159\u001B[39m \u001B[43m        \u001B[49m\u001B[43mon_error\u001B[49m\u001B[43m,\u001B[49m\n\u001B[32m    160\u001B[39m \u001B[43m        \u001B[49m\u001B[43mexception_factory\u001B[49m\u001B[43m,\u001B[49m\n\u001B[32m    161\u001B[39m \u001B[43m        \u001B[49m\u001B[43mtimeout\u001B[49m\u001B[43m,\u001B[49m\n\u001B[32m    162\u001B[39m \u001B[43m    \u001B[49m\u001B[43m)\u001B[49m\n\u001B[32m    163\u001B[39m     \u001B[38;5;66;03m# if exception not raised, sleep before next attempt\u001B[39;00m\n\u001B[32m    164\u001B[39m     time.sleep(sleep)\n",
      "\u001B[36mFile \u001B[39m\u001B[32m/opt/anaconda3/envs/scientificProject/lib/python3.12/site-packages/google/api_core/retry/retry_base.py:212\u001B[39m, in \u001B[36m_retry_error_helper\u001B[39m\u001B[34m(exc, deadline, next_sleep, error_list, predicate_fn, on_error_fn, exc_factory_fn, original_timeout)\u001B[39m\n\u001B[32m    206\u001B[39m \u001B[38;5;28;01mif\u001B[39;00m \u001B[38;5;129;01mnot\u001B[39;00m predicate_fn(exc):\n\u001B[32m    207\u001B[39m     final_exc, source_exc = exc_factory_fn(\n\u001B[32m    208\u001B[39m         error_list,\n\u001B[32m    209\u001B[39m         RetryFailureReason.NON_RETRYABLE_ERROR,\n\u001B[32m    210\u001B[39m         original_timeout,\n\u001B[32m    211\u001B[39m     )\n\u001B[32m--> \u001B[39m\u001B[32m212\u001B[39m     \u001B[38;5;28;01mraise\u001B[39;00m final_exc \u001B[38;5;28;01mfrom\u001B[39;00m\u001B[38;5;250m \u001B[39m\u001B[34;01msource_exc\u001B[39;00m\n\u001B[32m    213\u001B[39m \u001B[38;5;28;01mif\u001B[39;00m on_error_fn \u001B[38;5;129;01mis\u001B[39;00m \u001B[38;5;129;01mnot\u001B[39;00m \u001B[38;5;28;01mNone\u001B[39;00m:\n\u001B[32m    214\u001B[39m     on_error_fn(exc)\n",
      "\u001B[36mFile \u001B[39m\u001B[32m/opt/anaconda3/envs/scientificProject/lib/python3.12/site-packages/google/api_core/retry/retry_unary.py:144\u001B[39m, in \u001B[36mretry_target\u001B[39m\u001B[34m(target, predicate, sleep_generator, timeout, on_error, exception_factory, **kwargs)\u001B[39m\n\u001B[32m    142\u001B[39m \u001B[38;5;28;01mfor\u001B[39;00m sleep \u001B[38;5;129;01min\u001B[39;00m sleep_generator:\n\u001B[32m    143\u001B[39m     \u001B[38;5;28;01mtry\u001B[39;00m:\n\u001B[32m--> \u001B[39m\u001B[32m144\u001B[39m         result = \u001B[43mtarget\u001B[49m\u001B[43m(\u001B[49m\u001B[43m)\u001B[49m\n\u001B[32m    145\u001B[39m         \u001B[38;5;28;01mif\u001B[39;00m inspect.isawaitable(result):\n\u001B[32m    146\u001B[39m             warnings.warn(_ASYNC_RETRY_WARNING)\n",
      "\u001B[36mFile \u001B[39m\u001B[32m/opt/anaconda3/envs/scientificProject/lib/python3.12/site-packages/google/cloud/bigquery/job/query.py:1630\u001B[39m, in \u001B[36mQueryJob.result.<locals>.is_job_done\u001B[39m\u001B[34m()\u001B[39m\n\u001B[32m   1607\u001B[39m \u001B[38;5;28;01mif\u001B[39;00m job_failed_exception \u001B[38;5;129;01mis\u001B[39;00m \u001B[38;5;129;01mnot\u001B[39;00m \u001B[38;5;28;01mNone\u001B[39;00m:\n\u001B[32m   1608\u001B[39m     \u001B[38;5;66;03m# Only try to restart the query job if the job failed for\u001B[39;00m\n\u001B[32m   1609\u001B[39m     \u001B[38;5;66;03m# a retriable reason. For example, don't restart the query\u001B[39;00m\n\u001B[32m   (...)\u001B[39m\u001B[32m   1627\u001B[39m     \u001B[38;5;66;03m# into an exception that can be processed by the\u001B[39;00m\n\u001B[32m   1628\u001B[39m     \u001B[38;5;66;03m# `job_retry` predicate.\u001B[39;00m\n\u001B[32m   1629\u001B[39m     restart_query_job = \u001B[38;5;28;01mTrue\u001B[39;00m\n\u001B[32m-> \u001B[39m\u001B[32m1630\u001B[39m     \u001B[38;5;28;01mraise\u001B[39;00m job_failed_exception\n\u001B[32m   1631\u001B[39m \u001B[38;5;28;01melse\u001B[39;00m:\n\u001B[32m   1632\u001B[39m     \u001B[38;5;66;03m# Make sure that the _query_results are cached so we\u001B[39;00m\n\u001B[32m   1633\u001B[39m     \u001B[38;5;66;03m# can return a complete RowIterator.\u001B[39;00m\n\u001B[32m   (...)\u001B[39m\u001B[32m   1639\u001B[39m     \u001B[38;5;66;03m# making any extra API calls if the previous loop\u001B[39;00m\n\u001B[32m   1640\u001B[39m     \u001B[38;5;66;03m# iteration fetched the finished job.\u001B[39;00m\n\u001B[32m   1641\u001B[39m     \u001B[38;5;28mself\u001B[39m._reload_query_results(\n\u001B[32m   1642\u001B[39m         retry=retry, **reload_query_results_kwargs\n\u001B[32m   1643\u001B[39m     )\n",
      "\u001B[31mForbidden\u001B[39m: 403 Access Denied: Table copart-member-prod:fullstory.fullstory_events_o-1YQSMD-na1: User does not have permission to query table copart-member-prod:fullstory.fullstory_events_o-1YQSMD-na1, or perhaps it does not exist.; reason: accessDenied, message: Access Denied: Table copart-member-prod:fullstory.fullstory_events_o-1YQSMD-na1: User does not have permission to query table copart-member-prod:fullstory.fullstory_events_o-1YQSMD-na1, or perhaps it does not exist.\n\nLocation: us-west4\nJob ID: 84f77799-6e24-4d54-bf04-6e0be505494d\n"
     ]
    }
   ],
   "execution_count": 3
  },
  {
   "metadata": {},
   "cell_type": "code",
   "outputs": [],
   "execution_count": null,
   "source": "",
   "id": "7485d7aa19057b4"
  }
 ],
 "metadata": {
  "kernelspec": {
   "display_name": "Python 3",
   "language": "python",
   "name": "python3"
  },
  "language_info": {
   "codemirror_mode": {
    "name": "ipython",
    "version": 2
   },
   "file_extension": ".py",
   "mimetype": "text/x-python",
   "name": "python",
   "nbconvert_exporter": "python",
   "pygments_lexer": "ipython2",
   "version": "2.7.6"
  }
 },
 "nbformat": 4,
 "nbformat_minor": 5
}
